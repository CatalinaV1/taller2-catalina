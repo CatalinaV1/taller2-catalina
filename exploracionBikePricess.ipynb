{
 "cells": [
  {
   "cell_type": "code",
   "execution_count": 5,
   "id": "dcc9d24d",
   "metadata": {},
   "outputs": [],
   "source": [
    "import numpy as np\n",
    "import pandas as pd"
   ]
  },
  {
   "cell_type": "code",
   "execution_count": 6,
   "id": "1833c790",
   "metadata": {},
   "outputs": [
    {
     "data": {
      "text/html": [
       "<div>\n",
       "<style scoped>\n",
       "    .dataframe tbody tr th:only-of-type {\n",
       "        vertical-align: middle;\n",
       "    }\n",
       "\n",
       "    .dataframe tbody tr th {\n",
       "        vertical-align: top;\n",
       "    }\n",
       "\n",
       "    .dataframe thead th {\n",
       "        text-align: right;\n",
       "    }\n",
       "</style>\n",
       "<table border=\"1\" class=\"dataframe\">\n",
       "  <thead>\n",
       "    <tr style=\"text-align: right;\">\n",
       "      <th></th>\n",
       "      <th>Brand</th>\n",
       "      <th>Model</th>\n",
       "      <th>Selling_Price</th>\n",
       "      <th>Year</th>\n",
       "      <th>Seller_Type</th>\n",
       "      <th>Owner</th>\n",
       "      <th>KM_Driven</th>\n",
       "      <th>Ex_Showroom_Price</th>\n",
       "    </tr>\n",
       "  </thead>\n",
       "  <tbody>\n",
       "    <tr>\n",
       "      <th>0</th>\n",
       "      <td>TVS</td>\n",
       "      <td>TVS XL 100</td>\n",
       "      <td>30000</td>\n",
       "      <td>2017</td>\n",
       "      <td>Individual</td>\n",
       "      <td>1st owner</td>\n",
       "      <td>8000</td>\n",
       "      <td>30490.0</td>\n",
       "    </tr>\n",
       "    <tr>\n",
       "      <th>1</th>\n",
       "      <td>Bajaj</td>\n",
       "      <td>Bajaj  ct 100</td>\n",
       "      <td>18000</td>\n",
       "      <td>2017</td>\n",
       "      <td>Individual</td>\n",
       "      <td>1st owner</td>\n",
       "      <td>35000</td>\n",
       "      <td>32000.0</td>\n",
       "    </tr>\n",
       "    <tr>\n",
       "      <th>2</th>\n",
       "      <td>Yo</td>\n",
       "      <td>Yo Style</td>\n",
       "      <td>20000</td>\n",
       "      <td>2011</td>\n",
       "      <td>Individual</td>\n",
       "      <td>1st owner</td>\n",
       "      <td>10000</td>\n",
       "      <td>37675.0</td>\n",
       "    </tr>\n",
       "    <tr>\n",
       "      <th>3</th>\n",
       "      <td>Bajaj</td>\n",
       "      <td>Bajaj Discover 100</td>\n",
       "      <td>25000</td>\n",
       "      <td>2010</td>\n",
       "      <td>Individual</td>\n",
       "      <td>1st owner</td>\n",
       "      <td>43000</td>\n",
       "      <td>42859.0</td>\n",
       "    </tr>\n",
       "    <tr>\n",
       "      <th>4</th>\n",
       "      <td>Bajaj</td>\n",
       "      <td>Bajaj Discover 100</td>\n",
       "      <td>24999</td>\n",
       "      <td>2012</td>\n",
       "      <td>Individual</td>\n",
       "      <td>2nd owner</td>\n",
       "      <td>35000</td>\n",
       "      <td>42859.0</td>\n",
       "    </tr>\n",
       "  </tbody>\n",
       "</table>\n",
       "</div>"
      ],
      "text/plain": [
       "   Brand               Model  Selling_Price  Year Seller_Type      Owner  \\\n",
       "0    TVS          TVS XL 100          30000  2017  Individual  1st owner   \n",
       "1  Bajaj       Bajaj  ct 100          18000  2017  Individual  1st owner   \n",
       "2     Yo            Yo Style          20000  2011  Individual  1st owner   \n",
       "3  Bajaj  Bajaj Discover 100          25000  2010  Individual  1st owner   \n",
       "4  Bajaj  Bajaj Discover 100          24999  2012  Individual  2nd owner   \n",
       "\n",
       "   KM_Driven  Ex_Showroom_Price  \n",
       "0       8000            30490.0  \n",
       "1      35000            32000.0  \n",
       "2      10000            37675.0  \n",
       "3      43000            42859.0  \n",
       "4      35000            42859.0  "
      ]
     },
     "execution_count": 6,
     "metadata": {},
     "output_type": "execute_result"
    }
   ],
   "source": [
    "df = pd.read_csv(\"BikePrices.csv\")\n",
    "df.head()"
   ]
  },
  {
   "cell_type": "markdown",
   "id": "7542efee",
   "metadata": {},
   "source": [
    "1. Cantidad de valores faltantes en cada columna del dataframe"
   ]
  },
  {
   "cell_type": "code",
   "execution_count": 7,
   "id": "a6f2e033",
   "metadata": {},
   "outputs": [
    {
     "data": {
      "text/plain": [
       "Brand                  0\n",
       "Model                  0\n",
       "Selling_Price          0\n",
       "Year                   0\n",
       "Seller_Type            0\n",
       "Owner                  0\n",
       "KM_Driven              0\n",
       "Ex_Showroom_Price    435\n",
       "dtype: int64"
      ]
     },
     "execution_count": 7,
     "metadata": {},
     "output_type": "execute_result"
    }
   ],
   "source": [
    "df.isna().sum()"
   ]
  },
  {
   "cell_type": "markdown",
   "id": "a66999b8",
   "metadata": {},
   "source": [
    "2. Cantidad de valores en cada columna"
   ]
  },
  {
   "cell_type": "code",
   "execution_count": 8,
   "id": "95582815",
   "metadata": {},
   "outputs": [
    {
     "data": {
      "text/plain": [
       "Brand                1061\n",
       "Model                1061\n",
       "Selling_Price        1061\n",
       "Year                 1061\n",
       "Seller_Type          1061\n",
       "Owner                1061\n",
       "KM_Driven            1061\n",
       "Ex_Showroom_Price     626\n",
       "dtype: int64"
      ]
     },
     "execution_count": 8,
     "metadata": {},
     "output_type": "execute_result"
    }
   ],
   "source": [
    "df.notna().sum()"
   ]
  },
  {
   "cell_type": "markdown",
   "id": "cda5763e",
   "metadata": {},
   "source": [
    "3. Devuelve el dataframe eliminando las filas que contienen al menos un valor faltante"
   ]
  },
  {
   "cell_type": "code",
   "execution_count": 9,
   "id": "1ae11339",
   "metadata": {},
   "outputs": [
    {
     "data": {
      "text/html": [
       "<div>\n",
       "<style scoped>\n",
       "    .dataframe tbody tr th:only-of-type {\n",
       "        vertical-align: middle;\n",
       "    }\n",
       "\n",
       "    .dataframe tbody tr th {\n",
       "        vertical-align: top;\n",
       "    }\n",
       "\n",
       "    .dataframe thead th {\n",
       "        text-align: right;\n",
       "    }\n",
       "</style>\n",
       "<table border=\"1\" class=\"dataframe\">\n",
       "  <thead>\n",
       "    <tr style=\"text-align: right;\">\n",
       "      <th></th>\n",
       "      <th>Brand</th>\n",
       "      <th>Model</th>\n",
       "      <th>Selling_Price</th>\n",
       "      <th>Year</th>\n",
       "      <th>Seller_Type</th>\n",
       "      <th>Owner</th>\n",
       "      <th>KM_Driven</th>\n",
       "      <th>Ex_Showroom_Price</th>\n",
       "    </tr>\n",
       "  </thead>\n",
       "  <tbody>\n",
       "    <tr>\n",
       "      <th>0</th>\n",
       "      <td>TVS</td>\n",
       "      <td>TVS XL 100</td>\n",
       "      <td>30000</td>\n",
       "      <td>2017</td>\n",
       "      <td>Individual</td>\n",
       "      <td>1st owner</td>\n",
       "      <td>8000</td>\n",
       "      <td>30490.0</td>\n",
       "    </tr>\n",
       "    <tr>\n",
       "      <th>1</th>\n",
       "      <td>Bajaj</td>\n",
       "      <td>Bajaj  ct 100</td>\n",
       "      <td>18000</td>\n",
       "      <td>2017</td>\n",
       "      <td>Individual</td>\n",
       "      <td>1st owner</td>\n",
       "      <td>35000</td>\n",
       "      <td>32000.0</td>\n",
       "    </tr>\n",
       "    <tr>\n",
       "      <th>2</th>\n",
       "      <td>Yo</td>\n",
       "      <td>Yo Style</td>\n",
       "      <td>20000</td>\n",
       "      <td>2011</td>\n",
       "      <td>Individual</td>\n",
       "      <td>1st owner</td>\n",
       "      <td>10000</td>\n",
       "      <td>37675.0</td>\n",
       "    </tr>\n",
       "    <tr>\n",
       "      <th>3</th>\n",
       "      <td>Bajaj</td>\n",
       "      <td>Bajaj Discover 100</td>\n",
       "      <td>25000</td>\n",
       "      <td>2010</td>\n",
       "      <td>Individual</td>\n",
       "      <td>1st owner</td>\n",
       "      <td>43000</td>\n",
       "      <td>42859.0</td>\n",
       "    </tr>\n",
       "    <tr>\n",
       "      <th>4</th>\n",
       "      <td>Bajaj</td>\n",
       "      <td>Bajaj Discover 100</td>\n",
       "      <td>24999</td>\n",
       "      <td>2012</td>\n",
       "      <td>Individual</td>\n",
       "      <td>2nd owner</td>\n",
       "      <td>35000</td>\n",
       "      <td>42859.0</td>\n",
       "    </tr>\n",
       "    <tr>\n",
       "      <th>...</th>\n",
       "      <td>...</td>\n",
       "      <td>...</td>\n",
       "      <td>...</td>\n",
       "      <td>...</td>\n",
       "      <td>...</td>\n",
       "      <td>...</td>\n",
       "      <td>...</td>\n",
       "      <td>...</td>\n",
       "    </tr>\n",
       "    <tr>\n",
       "      <th>621</th>\n",
       "      <td>Harley</td>\n",
       "      <td>Harley-Davidson Street 750</td>\n",
       "      <td>330000</td>\n",
       "      <td>2014</td>\n",
       "      <td>Individual</td>\n",
       "      <td>4th owner</td>\n",
       "      <td>6500</td>\n",
       "      <td>534000.0</td>\n",
       "    </tr>\n",
       "    <tr>\n",
       "      <th>622</th>\n",
       "      <td>Kawasaki</td>\n",
       "      <td>Kawasaki Ninja 650 [2018-2019]</td>\n",
       "      <td>300000</td>\n",
       "      <td>2011</td>\n",
       "      <td>Individual</td>\n",
       "      <td>1st owner</td>\n",
       "      <td>12000</td>\n",
       "      <td>589000.0</td>\n",
       "    </tr>\n",
       "    <tr>\n",
       "      <th>623</th>\n",
       "      <td>Kawasaki</td>\n",
       "      <td>Kawasaki Ninja 650 [2018-2019]</td>\n",
       "      <td>425000</td>\n",
       "      <td>2017</td>\n",
       "      <td>Individual</td>\n",
       "      <td>2nd owner</td>\n",
       "      <td>13600</td>\n",
       "      <td>599000.0</td>\n",
       "    </tr>\n",
       "    <tr>\n",
       "      <th>624</th>\n",
       "      <td>Suzuki</td>\n",
       "      <td>Suzuki GSX S750</td>\n",
       "      <td>760000</td>\n",
       "      <td>2019</td>\n",
       "      <td>Individual</td>\n",
       "      <td>1st owner</td>\n",
       "      <td>2800</td>\n",
       "      <td>752020.0</td>\n",
       "    </tr>\n",
       "    <tr>\n",
       "      <th>625</th>\n",
       "      <td>Harley</td>\n",
       "      <td>Harley-Davidson Street Bob</td>\n",
       "      <td>750000</td>\n",
       "      <td>2013</td>\n",
       "      <td>Individual</td>\n",
       "      <td>2nd owner</td>\n",
       "      <td>12000</td>\n",
       "      <td>1278000.0</td>\n",
       "    </tr>\n",
       "  </tbody>\n",
       "</table>\n",
       "<p>626 rows × 8 columns</p>\n",
       "</div>"
      ],
      "text/plain": [
       "        Brand                           Model  Selling_Price  Year  \\\n",
       "0         TVS                      TVS XL 100          30000  2017   \n",
       "1       Bajaj                   Bajaj  ct 100          18000  2017   \n",
       "2          Yo                        Yo Style          20000  2011   \n",
       "3       Bajaj              Bajaj Discover 100          25000  2010   \n",
       "4       Bajaj              Bajaj Discover 100          24999  2012   \n",
       "..        ...                             ...            ...   ...   \n",
       "621    Harley      Harley-Davidson Street 750         330000  2014   \n",
       "622  Kawasaki  Kawasaki Ninja 650 [2018-2019]         300000  2011   \n",
       "623  Kawasaki  Kawasaki Ninja 650 [2018-2019]         425000  2017   \n",
       "624    Suzuki                 Suzuki GSX S750         760000  2019   \n",
       "625    Harley      Harley-Davidson Street Bob         750000  2013   \n",
       "\n",
       "    Seller_Type      Owner  KM_Driven  Ex_Showroom_Price  \n",
       "0    Individual  1st owner       8000            30490.0  \n",
       "1    Individual  1st owner      35000            32000.0  \n",
       "2    Individual  1st owner      10000            37675.0  \n",
       "3    Individual  1st owner      43000            42859.0  \n",
       "4    Individual  2nd owner      35000            42859.0  \n",
       "..          ...        ...        ...                ...  \n",
       "621  Individual  4th owner       6500           534000.0  \n",
       "622  Individual  1st owner      12000           589000.0  \n",
       "623  Individual  2nd owner      13600           599000.0  \n",
       "624  Individual  1st owner       2800           752020.0  \n",
       "625  Individual  2nd owner      12000          1278000.0  \n",
       "\n",
       "[626 rows x 8 columns]"
      ]
     },
     "execution_count": 9,
     "metadata": {},
     "output_type": "execute_result"
    }
   ],
   "source": [
    "df.dropna()"
   ]
  },
  {
   "cell_type": "markdown",
   "id": "d531b82d",
   "metadata": {},
   "source": [
    "4. Tamaño del dataframe después de eliminar las filas con valores faltantes"
   ]
  },
  {
   "cell_type": "code",
   "execution_count": 10,
   "id": "59b0d60d",
   "metadata": {},
   "outputs": [
    {
     "data": {
      "text/plain": [
       "(626, 8)"
      ]
     },
     "execution_count": 10,
     "metadata": {},
     "output_type": "execute_result"
    }
   ],
   "source": [
    "df.dropna().shape"
   ]
  },
  {
   "cell_type": "code",
   "execution_count": 11,
   "id": "82542aac",
   "metadata": {},
   "outputs": [
    {
     "data": {
      "text/html": [
       "<div>\n",
       "<style scoped>\n",
       "    .dataframe tbody tr th:only-of-type {\n",
       "        vertical-align: middle;\n",
       "    }\n",
       "\n",
       "    .dataframe tbody tr th {\n",
       "        vertical-align: top;\n",
       "    }\n",
       "\n",
       "    .dataframe thead th {\n",
       "        text-align: right;\n",
       "    }\n",
       "</style>\n",
       "<table border=\"1\" class=\"dataframe\">\n",
       "  <thead>\n",
       "    <tr style=\"text-align: right;\">\n",
       "      <th></th>\n",
       "      <th>Brand</th>\n",
       "      <th>Model</th>\n",
       "      <th>Selling_Price</th>\n",
       "      <th>Year</th>\n",
       "      <th>Seller_Type</th>\n",
       "      <th>Owner</th>\n",
       "      <th>KM_Driven</th>\n",
       "      <th>Ex_Showroom_Price</th>\n",
       "    </tr>\n",
       "  </thead>\n",
       "  <tbody>\n",
       "    <tr>\n",
       "      <th>0</th>\n",
       "      <td>TVS</td>\n",
       "      <td>TVS XL 100</td>\n",
       "      <td>30000</td>\n",
       "      <td>2017</td>\n",
       "      <td>Individual</td>\n",
       "      <td>1st owner</td>\n",
       "      <td>8000</td>\n",
       "      <td>30490.0</td>\n",
       "    </tr>\n",
       "    <tr>\n",
       "      <th>1</th>\n",
       "      <td>Bajaj</td>\n",
       "      <td>Bajaj  ct 100</td>\n",
       "      <td>18000</td>\n",
       "      <td>2017</td>\n",
       "      <td>Individual</td>\n",
       "      <td>1st owner</td>\n",
       "      <td>35000</td>\n",
       "      <td>32000.0</td>\n",
       "    </tr>\n",
       "    <tr>\n",
       "      <th>2</th>\n",
       "      <td>Yo</td>\n",
       "      <td>Yo Style</td>\n",
       "      <td>20000</td>\n",
       "      <td>2011</td>\n",
       "      <td>Individual</td>\n",
       "      <td>1st owner</td>\n",
       "      <td>10000</td>\n",
       "      <td>37675.0</td>\n",
       "    </tr>\n",
       "    <tr>\n",
       "      <th>3</th>\n",
       "      <td>Bajaj</td>\n",
       "      <td>Bajaj Discover 100</td>\n",
       "      <td>25000</td>\n",
       "      <td>2010</td>\n",
       "      <td>Individual</td>\n",
       "      <td>1st owner</td>\n",
       "      <td>43000</td>\n",
       "      <td>42859.0</td>\n",
       "    </tr>\n",
       "    <tr>\n",
       "      <th>4</th>\n",
       "      <td>Bajaj</td>\n",
       "      <td>Bajaj Discover 100</td>\n",
       "      <td>24999</td>\n",
       "      <td>2012</td>\n",
       "      <td>Individual</td>\n",
       "      <td>2nd owner</td>\n",
       "      <td>35000</td>\n",
       "      <td>42859.0</td>\n",
       "    </tr>\n",
       "    <tr>\n",
       "      <th>...</th>\n",
       "      <td>...</td>\n",
       "      <td>...</td>\n",
       "      <td>...</td>\n",
       "      <td>...</td>\n",
       "      <td>...</td>\n",
       "      <td>...</td>\n",
       "      <td>...</td>\n",
       "      <td>...</td>\n",
       "    </tr>\n",
       "    <tr>\n",
       "      <th>1056</th>\n",
       "      <td>Royal</td>\n",
       "      <td>Royal Enfield Electra 5 S</td>\n",
       "      <td>90000</td>\n",
       "      <td>2012</td>\n",
       "      <td>Individual</td>\n",
       "      <td>1st owner</td>\n",
       "      <td>40000</td>\n",
       "      <td>NaN</td>\n",
       "    </tr>\n",
       "    <tr>\n",
       "      <th>1057</th>\n",
       "      <td>Hero</td>\n",
       "      <td>Hero Honda Hunk</td>\n",
       "      <td>20000</td>\n",
       "      <td>2010</td>\n",
       "      <td>Individual</td>\n",
       "      <td>1st owner</td>\n",
       "      <td>17000</td>\n",
       "      <td>NaN</td>\n",
       "    </tr>\n",
       "    <tr>\n",
       "      <th>1058</th>\n",
       "      <td>Bajaj</td>\n",
       "      <td>Bajaj Pulsar 220 DTS-i</td>\n",
       "      <td>60000</td>\n",
       "      <td>2014</td>\n",
       "      <td>Individual</td>\n",
       "      <td>1st owner</td>\n",
       "      <td>16000</td>\n",
       "      <td>NaN</td>\n",
       "    </tr>\n",
       "    <tr>\n",
       "      <th>1059</th>\n",
       "      <td>Hero</td>\n",
       "      <td>Hero Honda CBZ extreme</td>\n",
       "      <td>40000</td>\n",
       "      <td>2009</td>\n",
       "      <td>Individual</td>\n",
       "      <td>1st owner</td>\n",
       "      <td>50000</td>\n",
       "      <td>NaN</td>\n",
       "    </tr>\n",
       "    <tr>\n",
       "      <th>1060</th>\n",
       "      <td>Hero</td>\n",
       "      <td>Hero Honda CBZ extreme</td>\n",
       "      <td>35000</td>\n",
       "      <td>2012</td>\n",
       "      <td>Individual</td>\n",
       "      <td>1st owner</td>\n",
       "      <td>60000</td>\n",
       "      <td>NaN</td>\n",
       "    </tr>\n",
       "  </tbody>\n",
       "</table>\n",
       "<p>1061 rows × 8 columns</p>\n",
       "</div>"
      ],
      "text/plain": [
       "      Brand                      Model  Selling_Price  Year Seller_Type  \\\n",
       "0       TVS                 TVS XL 100          30000  2017  Individual   \n",
       "1     Bajaj              Bajaj  ct 100          18000  2017  Individual   \n",
       "2        Yo                   Yo Style          20000  2011  Individual   \n",
       "3     Bajaj         Bajaj Discover 100          25000  2010  Individual   \n",
       "4     Bajaj         Bajaj Discover 100          24999  2012  Individual   \n",
       "...     ...                        ...            ...   ...         ...   \n",
       "1056  Royal  Royal Enfield Electra 5 S          90000  2012  Individual   \n",
       "1057   Hero            Hero Honda Hunk          20000  2010  Individual   \n",
       "1058  Bajaj     Bajaj Pulsar 220 DTS-i          60000  2014  Individual   \n",
       "1059   Hero     Hero Honda CBZ extreme          40000  2009  Individual   \n",
       "1060   Hero     Hero Honda CBZ extreme          35000  2012  Individual   \n",
       "\n",
       "          Owner  KM_Driven  Ex_Showroom_Price  \n",
       "0     1st owner       8000            30490.0  \n",
       "1     1st owner      35000            32000.0  \n",
       "2     1st owner      10000            37675.0  \n",
       "3     1st owner      43000            42859.0  \n",
       "4     2nd owner      35000            42859.0  \n",
       "...         ...        ...                ...  \n",
       "1056  1st owner      40000                NaN  \n",
       "1057  1st owner      17000                NaN  \n",
       "1058  1st owner      16000                NaN  \n",
       "1059  1st owner      50000                NaN  \n",
       "1060  1st owner      60000                NaN  \n",
       "\n",
       "[1061 rows x 8 columns]"
      ]
     },
     "execution_count": 11,
     "metadata": {},
     "output_type": "execute_result"
    }
   ],
   "source": [
    "df"
   ]
  },
  {
   "cell_type": "markdown",
   "id": "21f22b41",
   "metadata": {},
   "source": [
    "5. Revisar la columna \"\"Year\" y contar cuántas veces aparece cada año"
   ]
  },
  {
   "cell_type": "code",
   "execution_count": 12,
   "id": "a45fc9c7",
   "metadata": {},
   "outputs": [
    {
     "data": {
      "text/plain": [
       "Year\n",
       "2017    133\n",
       "2018    131\n",
       "2016    107\n",
       "2015    100\n",
       "2014     91\n",
       "2019     86\n",
       "2013     73\n",
       "2012     70\n",
       "2011     61\n",
       "2010     60\n",
       "2007     29\n",
       "2008     28\n",
       "2009     28\n",
       "2006     20\n",
       "2005     14\n",
       "2000      6\n",
       "2004      5\n",
       "1998      3\n",
       "2020      3\n",
       "2002      3\n",
       "2001      2\n",
       "1997      2\n",
       "1988      1\n",
       "1999      1\n",
       "1991      1\n",
       "2003      1\n",
       "1993      1\n",
       "1995      1\n",
       "Name: count, dtype: int64"
      ]
     },
     "execution_count": 12,
     "metadata": {},
     "output_type": "execute_result"
    }
   ],
   "source": [
    "df['Year'].value_counts()"
   ]
  },
  {
   "cell_type": "markdown",
   "id": "7bcd811e",
   "metadata": {},
   "source": [
    "6. Crear un diccionario convirtiendo las categorías de la columna \"Owner\" a etiquetas abreviadas y después añadirlas a una nueva columna"
   ]
  },
  {
   "cell_type": "code",
   "execution_count": 13,
   "id": "e25eccfd",
   "metadata": {},
   "outputs": [],
   "source": [
    "owner_to_label={\n",
    "    '1st owner':'FST',\n",
    "    '2nd owner':'SND',\n",
    "    '3rd owner':'TRD',\n",
    "    '4th owner':'FTH'\n",
    "}"
   ]
  },
  {
   "cell_type": "code",
   "execution_count": 14,
   "id": "3cee9a41",
   "metadata": {},
   "outputs": [
    {
     "data": {
      "text/html": [
       "<div>\n",
       "<style scoped>\n",
       "    .dataframe tbody tr th:only-of-type {\n",
       "        vertical-align: middle;\n",
       "    }\n",
       "\n",
       "    .dataframe tbody tr th {\n",
       "        vertical-align: top;\n",
       "    }\n",
       "\n",
       "    .dataframe thead th {\n",
       "        text-align: right;\n",
       "    }\n",
       "</style>\n",
       "<table border=\"1\" class=\"dataframe\">\n",
       "  <thead>\n",
       "    <tr style=\"text-align: right;\">\n",
       "      <th></th>\n",
       "      <th>Brand</th>\n",
       "      <th>Model</th>\n",
       "      <th>Selling_Price</th>\n",
       "      <th>Year</th>\n",
       "      <th>Seller_Type</th>\n",
       "      <th>Owner</th>\n",
       "      <th>KM_Driven</th>\n",
       "      <th>Ex_Showroom_Price</th>\n",
       "      <th>Owner_label</th>\n",
       "    </tr>\n",
       "  </thead>\n",
       "  <tbody>\n",
       "    <tr>\n",
       "      <th>0</th>\n",
       "      <td>TVS</td>\n",
       "      <td>TVS XL 100</td>\n",
       "      <td>30000</td>\n",
       "      <td>2017</td>\n",
       "      <td>Individual</td>\n",
       "      <td>1st owner</td>\n",
       "      <td>8000</td>\n",
       "      <td>30490.0</td>\n",
       "      <td>FST</td>\n",
       "    </tr>\n",
       "    <tr>\n",
       "      <th>1</th>\n",
       "      <td>Bajaj</td>\n",
       "      <td>Bajaj  ct 100</td>\n",
       "      <td>18000</td>\n",
       "      <td>2017</td>\n",
       "      <td>Individual</td>\n",
       "      <td>1st owner</td>\n",
       "      <td>35000</td>\n",
       "      <td>32000.0</td>\n",
       "      <td>FST</td>\n",
       "    </tr>\n",
       "    <tr>\n",
       "      <th>2</th>\n",
       "      <td>Yo</td>\n",
       "      <td>Yo Style</td>\n",
       "      <td>20000</td>\n",
       "      <td>2011</td>\n",
       "      <td>Individual</td>\n",
       "      <td>1st owner</td>\n",
       "      <td>10000</td>\n",
       "      <td>37675.0</td>\n",
       "      <td>FST</td>\n",
       "    </tr>\n",
       "    <tr>\n",
       "      <th>3</th>\n",
       "      <td>Bajaj</td>\n",
       "      <td>Bajaj Discover 100</td>\n",
       "      <td>25000</td>\n",
       "      <td>2010</td>\n",
       "      <td>Individual</td>\n",
       "      <td>1st owner</td>\n",
       "      <td>43000</td>\n",
       "      <td>42859.0</td>\n",
       "      <td>FST</td>\n",
       "    </tr>\n",
       "    <tr>\n",
       "      <th>4</th>\n",
       "      <td>Bajaj</td>\n",
       "      <td>Bajaj Discover 100</td>\n",
       "      <td>24999</td>\n",
       "      <td>2012</td>\n",
       "      <td>Individual</td>\n",
       "      <td>2nd owner</td>\n",
       "      <td>35000</td>\n",
       "      <td>42859.0</td>\n",
       "      <td>SND</td>\n",
       "    </tr>\n",
       "  </tbody>\n",
       "</table>\n",
       "</div>"
      ],
      "text/plain": [
       "   Brand               Model  Selling_Price  Year Seller_Type      Owner  \\\n",
       "0    TVS          TVS XL 100          30000  2017  Individual  1st owner   \n",
       "1  Bajaj       Bajaj  ct 100          18000  2017  Individual  1st owner   \n",
       "2     Yo            Yo Style          20000  2011  Individual  1st owner   \n",
       "3  Bajaj  Bajaj Discover 100          25000  2010  Individual  1st owner   \n",
       "4  Bajaj  Bajaj Discover 100          24999  2012  Individual  2nd owner   \n",
       "\n",
       "   KM_Driven  Ex_Showroom_Price Owner_label  \n",
       "0       8000            30490.0         FST  \n",
       "1      35000            32000.0         FST  \n",
       "2      10000            37675.0         FST  \n",
       "3      43000            42859.0         FST  \n",
       "4      35000            42859.0         SND  "
      ]
     },
     "execution_count": 14,
     "metadata": {},
     "output_type": "execute_result"
    }
   ],
   "source": [
    "df2 = df.copy()\n",
    "df2['Owner_label'] = df['Owner'].map(owner_to_label)\n",
    "df2.head()"
   ]
  },
  {
   "cell_type": "markdown",
   "id": "522064c2",
   "metadata": {},
   "source": [
    "7. Extraer una columna del dataframe y guardar valores como un objeto "
   ]
  },
  {
   "cell_type": "code",
   "execution_count": 15,
   "id": "8be4ec34",
   "metadata": {},
   "outputs": [
    {
     "data": {
      "text/plain": [
       "0       30000\n",
       "1       18000\n",
       "2       20000\n",
       "3       25000\n",
       "4       24999\n",
       "        ...  \n",
       "1056    90000\n",
       "1057    20000\n",
       "1058    60000\n",
       "1059    40000\n",
       "1060    35000\n",
       "Name: Selling_Price, Length: 1061, dtype: int64"
      ]
     },
     "execution_count": 15,
     "metadata": {},
     "output_type": "execute_result"
    }
   ],
   "source": [
    "price = df['Selling_Price']\n",
    "price"
   ]
  },
  {
   "cell_type": "markdown",
   "id": "1e7d0bfd",
   "metadata": {},
   "source": [
    "8. Devuelve estadísticas descriptivas de la variable \"price\""
   ]
  },
  {
   "cell_type": "code",
   "execution_count": 16,
   "id": "3d06c5b5",
   "metadata": {},
   "outputs": [
    {
     "data": {
      "text/plain": [
       "count      1061.000000\n",
       "mean      59638.151744\n",
       "std       56304.291973\n",
       "min        5000.000000\n",
       "25%       28000.000000\n",
       "50%       45000.000000\n",
       "75%       70000.000000\n",
       "max      760000.000000\n",
       "Name: Selling_Price, dtype: float64"
      ]
     },
     "execution_count": 16,
     "metadata": {},
     "output_type": "execute_result"
    }
   ],
   "source": [
    "price.describe()"
   ]
  },
  {
   "cell_type": "markdown",
   "id": "bc213d72",
   "metadata": {},
   "source": [
    "9. Clasificar los valores de \"\"price\" en intervalos definidos por bins y después contar cuántos hay en cada intervalo"
   ]
  },
  {
   "cell_type": "code",
   "execution_count": 17,
   "id": "0a29505a",
   "metadata": {},
   "outputs": [
    {
     "data": {
      "text/plain": [
       "Selling_Price\n",
       "(30000, 50000]    318\n",
       "(20000, 30000]    203\n",
       "(50000, 70000]    144\n",
       "(70000, 90000]     87\n",
       "Name: count, dtype: int64"
      ]
     },
     "execution_count": 17,
     "metadata": {},
     "output_type": "execute_result"
    }
   ],
   "source": [
    "bins = [20000, 30000, 50000, 70000, 90000]\n",
    "price_cat = pd.cut(price, bins) \n",
    "price_cat.value_counts()"
   ]
  },
  {
   "cell_type": "markdown",
   "id": "03ce3b64",
   "metadata": {},
   "source": [
    "10. Crear etiquetas para clasificar los precios en categorias. Agrupar y contar cuántos valores hay en cada categoría"
   ]
  },
  {
   "cell_type": "code",
   "execution_count": 18,
   "id": "81de5c43",
   "metadata": {},
   "outputs": [
    {
     "data": {
      "text/plain": [
       "Selling_Price\n",
       "Medio       318\n",
       "Bajo        203\n",
       "Alto        144\n",
       "Muy Alto     87\n",
       "Name: count, dtype: int64"
      ]
     },
     "execution_count": 18,
     "metadata": {},
     "output_type": "execute_result"
    }
   ],
   "source": [
    "labels = ['Bajo', 'Medio', 'Alto', 'Muy Alto']\n",
    "price_cat = pd.cut(price, bins, labels=labels)\n",
    "price_cat.value_counts()"
   ]
  },
  {
   "cell_type": "code",
   "execution_count": 20,
   "id": "3dca52d3",
   "metadata": {},
   "outputs": [
    {
     "name": "stdout",
     "output_type": "stream",
     "text": [
      "Precios en estado medio: 318\n"
     ]
    }
   ],
   "source": [
    "print(\"Precios en estado medio:\", (price_cat == \"Medio\").sum())"
   ]
  },
  {
   "cell_type": "code",
   "execution_count": 21,
   "id": "5d789a18",
   "metadata": {},
   "outputs": [
    {
     "name": "stdout",
     "output_type": "stream",
     "text": [
      "Precios en estado bajo: 203\n"
     ]
    }
   ],
   "source": [
    "print(\"Precios en estado bajo:\", (price_cat == \"Bajo\").sum())"
   ]
  }
 ],
 "metadata": {
  "kernelspec": {
   "display_name": "Python 3",
   "language": "python",
   "name": "python3"
  },
  "language_info": {
   "codemirror_mode": {
    "name": "ipython",
    "version": 3
   },
   "file_extension": ".py",
   "mimetype": "text/x-python",
   "name": "python",
   "nbconvert_exporter": "python",
   "pygments_lexer": "ipython3",
   "version": "3.11.9"
  }
 },
 "nbformat": 4,
 "nbformat_minor": 5
}
